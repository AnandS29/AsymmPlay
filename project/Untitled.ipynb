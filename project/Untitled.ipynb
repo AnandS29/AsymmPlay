{
 "cells": [
  {
   "cell_type": "code",
   "execution_count": 1,
   "metadata": {},
   "outputs": [],
   "source": [
    "import random\n",
    "import numpy as np\n",
    "import gym\n",
    "from gym_minigrid.register import env_list\n",
    "from gym_minigrid.minigrid import Grid, OBJECT_TO_IDX\n",
    "\n",
    "# Test specifically importing a specific environment\n",
    "from gym_minigrid.envs import DoorKeyEnv\n",
    "\n",
    "# Test importing wrappers\n",
    "from gym_minigrid.wrappers import *"
   ]
  },
  {
   "cell_type": "code",
   "execution_count": 3,
   "metadata": {},
   "outputs": [
    {
     "name": "stdout",
     "output_type": "stream",
     "text": [
      "['MiniGrid-Empty-5x5-v0', 'MiniGrid-Empty-Random-5x5-v0', 'MiniGrid-Empty-6x6-v0', 'MiniGrid-Empty-Random-6x6-v0', 'MiniGrid-Empty-8x8-v0', 'MiniGrid-Empty-16x16-v0', 'MiniGrid-DoorKey-5x5-v0', 'MiniGrid-DoorKey-6x6-v0', 'MiniGrid-DoorKey-8x8-v0', 'MiniGrid-DoorKey-16x16-v0', 'MiniGrid-MultiRoom-N2-S4-v0', 'MiniGrid-MultiRoom-N4-S5-v0', 'MiniGrid-MultiRoom-N6-v0', 'MiniGrid-Fetch-5x5-N2-v0', 'MiniGrid-Fetch-6x6-N2-v0', 'MiniGrid-Fetch-8x8-N3-v0', 'MiniGrid-GoToObject-6x6-N2-v0', 'MiniGrid-GoToObject-8x8-N2-v0', 'MiniGrid-GoToDoor-5x5-v0', 'MiniGrid-GoToDoor-6x6-v0', 'MiniGrid-GoToDoor-8x8-v0', 'MiniGrid-PutNear-6x6-N2-v0', 'MiniGrid-PutNear-8x8-N3-v0', 'MiniGrid-LockedRoom-v0', 'MiniGrid-KeyCorridorS3R1-v0', 'MiniGrid-KeyCorridorS3R2-v0', 'MiniGrid-KeyCorridorS3R3-v0', 'MiniGrid-KeyCorridorS4R3-v0', 'MiniGrid-KeyCorridorS5R3-v0', 'MiniGrid-KeyCorridorS6R3-v0', 'MiniGrid-Unlock-v0', 'MiniGrid-UnlockPickup-v0', 'MiniGrid-BlockedUnlockPickup-v0', 'MiniGrid-Playground-v0', 'MiniGrid-RedBlueDoors-6x6-v0', 'MiniGrid-RedBlueDoors-8x8-v0', 'MiniGrid-ObstructedMaze-1Dl-v0', 'MiniGrid-ObstructedMaze-1Dlh-v0', 'MiniGrid-ObstructedMaze-1Dlhb-v0', 'MiniGrid-ObstructedMaze-2Dl-v0', 'MiniGrid-ObstructedMaze-2Dlh-v0', 'MiniGrid-ObstructedMaze-2Dlhb-v0', 'MiniGrid-ObstructedMaze-1Q-v0', 'MiniGrid-ObstructedMaze-2Q-v0', 'MiniGrid-ObstructedMaze-Full-v0', 'MiniGrid-MemoryS17Random-v0', 'MiniGrid-MemoryS13Random-v0', 'MiniGrid-MemoryS13-v0', 'MiniGrid-MemoryS11-v0', 'MiniGrid-MemoryS9-v0', 'MiniGrid-MemoryS7-v0', 'MiniGrid-FourRooms-v0', 'MiniGrid-LavaCrossingS9N1-v0', 'MiniGrid-LavaCrossingS9N2-v0', 'MiniGrid-LavaCrossingS9N3-v0', 'MiniGrid-LavaCrossingS11N5-v0', 'MiniGrid-SimpleCrossingS9N1-v0', 'MiniGrid-SimpleCrossingS9N2-v0', 'MiniGrid-SimpleCrossingS9N3-v0', 'MiniGrid-SimpleCrossingS11N5-v0', 'MiniGrid-Dynamic-Obstacles-5x5-v0', 'MiniGrid-Dynamic-Obstacles-Random-5x5-v0', 'MiniGrid-Dynamic-Obstacles-6x6-v0', 'MiniGrid-Dynamic-Obstacles-Random-6x6-v0', 'MiniGrid-Dynamic-Obstacles-8x8-v0', 'MiniGrid-Dynamic-Obstacles-16x16-v0', 'MiniGrid-DistShift1-v0', 'MiniGrid-DistShift2-v0']\n"
     ]
    }
   ],
   "source": [
    "print(env_list)"
   ]
  },
  {
   "cell_type": "code",
   "execution_count": 4,
   "metadata": {},
   "outputs": [],
   "source": [
    "env_to_test = env_list[0]"
   ]
  },
  {
   "cell_type": "code",
   "execution_count": 9,
   "metadata": {},
   "outputs": [],
   "source": [
    "env = gym.make(env_name)\n",
    "env.max_steps = min(env.max_steps, 200)\n",
    "env.reset()\n",
    "env.render('rgb_array')\n",
    "\n",
    "# Verify that the same seed always produces the same environment\n",
    "for i in range(0, 5):\n",
    "    seed = 1337 + i\n",
    "    env.seed(seed)\n",
    "    grid1 = env.grid\n",
    "    env.seed(seed)\n",
    "    grid2 = env.grid\n",
    "    assert grid1 == grid2\n",
    "\n",
    "env.reset()\n",
    "\n",
    "# Run for a few episodes\n",
    "num_episodes = 0\n",
    "while num_episodes < 5:\n",
    "    # Pick a random action\n",
    "    action = random.randint(0, env.action_space.n - 1)\n",
    "\n",
    "    obs, reward, done, info = env.step(action)\n",
    "\n",
    "    # Validate the agent position\n",
    "    assert env.agent_pos[0] < env.width\n",
    "    assert env.agent_pos[1] < env.height\n",
    "\n",
    "    # Test observation encode/decode roundtrip\n",
    "    img = obs['image']\n",
    "    vis_mask = img[:, :, 0] != OBJECT_TO_IDX['unseen']  # hackish\n",
    "    img2 = Grid.decode(img).encode(vis_mask=vis_mask)\n",
    "    assert np.array_equal(img, img2)\n",
    "\n",
    "    # Test the env to string function\n",
    "    str(env)\n",
    "\n",
    "    # Check that the reward is within the specified range\n",
    "    assert reward >= env.reward_range[0], reward\n",
    "    assert reward <= env.reward_range[1], reward\n",
    "\n",
    "    if done:\n",
    "        num_episodes += 1\n",
    "        env.reset()\n",
    "\n",
    "    env.render('rgb_array')\n",
    "\n",
    "# Test the close method\n",
    "env.close()"
   ]
  },
  {
   "cell_type": "code",
   "execution_count": null,
   "metadata": {},
   "outputs": [],
   "source": []
  }
 ],
 "metadata": {
  "kernelspec": {
   "display_name": "Python 3",
   "language": "python",
   "name": "python3"
  },
  "language_info": {
   "codemirror_mode": {
    "name": "ipython",
    "version": 3
   },
   "file_extension": ".py",
   "mimetype": "text/x-python",
   "name": "python",
   "nbconvert_exporter": "python",
   "pygments_lexer": "ipython3",
   "version": "3.6.2"
  }
 },
 "nbformat": 4,
 "nbformat_minor": 2
}
