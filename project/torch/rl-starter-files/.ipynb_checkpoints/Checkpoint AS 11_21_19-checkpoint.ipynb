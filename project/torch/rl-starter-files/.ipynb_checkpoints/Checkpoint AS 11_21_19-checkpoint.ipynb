{
 "cells": [
  {
   "cell_type": "code",
   "execution_count": 3,
   "metadata": {
    "scrolled": true
   },
   "outputs": [
    {
     "data": {
      "image/png": "[encoded data removed]",
      "text/plain": [
       "<Figure size 432x288 with 1 Axes>"
      ]
     },
     "metadata": {
      "needs_background": "light"
     },
     "output_type": "display_data"
    }
   ],
   "source": [
    "import matplotlib.pyplot as plt\n",
    "import pandas as pd\n",
    "\n",
    "teach_file_name = '/Users/anandsranjan/Desktop/AsymmPlay/project/torch/rl-starter-files/storage/nt_11_27_1_3_o/log.csv'\n",
    "noteach_file_name = '/Users/anandsranjan/Desktop/AsymmPlay/project/torch/rl-starter-files/storage/t_11_27_1_3_o/log.csv'\n",
    "teach_w_ha_file_name = '/Users/anandsranjan/Desktop/AsymmPlay/project/torch/rl-starter-files/storage/t_ha_11_27_1_3_o/log.csv'\n",
    "\n",
    "path_names = [(teach_file_name,\"teaching\",\"red\"),(noteach_file_name,\"no teaching\",\"blue\"),(teach_w_ha_file_name,\"teaching with ha\",\"green\")]\n",
    "ax = plt.gca()\n",
    "for path, name, colour in path_names:\n",
    "    data = pd.read_csv(path)\n",
    "    data.plot(kind='scatter',x='update',y='rreturn_mean',color=colour,ax=ax, label=name)\n",
    "plt.legend()\n",
    "plt.show()"
   ]
  },
  {
   "cell_type": "markdown",
   "metadata": {},
   "source": [
    "Commands:\n",
    "\n",
    "python3 -m scripts.train --env MiniGrid-TeacherDoorKey-5x5-v0 --save-interval 10 --frames 80000 --procs 8 --nt_iters 50 --model nt_11_21 --teacher_algo a2c --student_algo ppo\n",
    "\n",
    "python3 -m scripts.train --env MiniGrid-TeacherDoorKey-5x5-v0 --save-interval 10 --frames 80000 --procs 8 --nt_iters 50 --t_iters 10 --s_iters_per_teaching 5 --model t_11_21 --teacher_algo a2c --student_algo ppo\n",
    "\n",
    "python3 -m scripts.train --env MiniGrid-TeacherDoorKey-5x5-v0 --save-interval 10 --frames 80000 --procs 8 --nt_iters 50 --t_iters 10 --s_iters_per_teaching 5 --model t_ha_11_21 --teacher_algo a2c --student_algo ppo --historical_averaging 0.2"
   ]
  },
  {
   "cell_type": "markdown",
   "metadata": {},
   "source": [
    "python3 -m scripts.train --env MiniGrid-TeacherDoorKey-5x5-v0 --save-interval 10 --frames 80000 --procs 8 --nt_iters 50 --model nt_11_21_1_3 --teacher_algo a2c --student_algo ppo\n",
    "\n",
    "python3 -m scripts.train --env MiniGrid-TeacherDoorKey-5x5-v0 --save-interval 10 --frames 80000 --procs 8 --nt_iters 50 --t_iters 10 --s_iters_per_teaching 5 --model t_11_21_1_3 --teacher_algo a2c --student_algo ppo\n",
    "\n",
    "python3 -m scripts.train --env MiniGrid-TeacherDoorKey-5x5-v0 --save-interval 10 --frames 80000 --procs 8 --nt_iters 50 --t_iters 10 --s_iters_per_teaching 5 --model t_ha_11_21_1_3 --teacher_algo a2c --student_algo ppo --historical_averaging 0.2 --inter"
   ]
  },
  {
   "cell_type": "markdown",
   "metadata": {},
   "source": [
    "python3 -m scripts.train --env MiniGrid-TeacherDoorKey-5x5-v0 --save-interval 10 --frames 80000 --procs 8 --nt_iters 50 --model nt_11_21_3_1 --teacher_algo a2c --student_algo ppo\n",
    "\n",
    "python3 -m scripts.train --env MiniGrid-TeacherDoorKey-5x5-v0 --save-interval 10 --frames 80000 --procs 8 --nt_iters 50 --t_iters 10 --s_iters_per_teaching 5 --model t_11_21_3_1 --teacher_algo a2c --student_algo ppo\n",
    "\n",
    "python3 -m scripts.train --env MiniGrid-TeacherDoorKey-5x5-v0 --save-interval 10 --frames 80000 --procs 8 --nt_iters 50 --t_iters 10 --s_iters_per_teaching 5 --model t_ha_11_21_3_1 --teacher_algo a2c --student_algo ppo --historical_averaging 0.2"
   ]
  },
  {
   "cell_type": "markdown",
   "metadata": {},
   "source": [
    "python3 -m scripts.train --env MiniGrid-TeacherDoorKey-5x5-v0 --save-interval 10 --frames 80000 --procs 8 --nt_iters 50 --model nt_11_21_3_1_s2 --teacher_algo a2c --student_algo ppo --seed 2\n",
    "\n",
    "python3 -m scripts.train --env MiniGrid-TeacherDoorKey-5x5-v0 --save-interval 10 --frames 80000 --procs 8 --nt_iters 50 --t_iters 10 --s_iters_per_teaching 5 --model t_11_21_3_1_s2 --teacher_algo a2c --student_algo ppo --seed 2\n",
    "\n",
    "python3 -m scripts.train --env MiniGrid-TeacherDoorKey-5x5-v0 --save-interval 10 --frames 80000 --procs 8 --nt_iters 50 --t_iters 10 --s_iters_per_teaching 5 --model t_ha_11_21_3_1_s2 --teacher_algo a2c --student_algo ppo --historical_averaging 0.2 --seed 2"
   ]
  },
  {
   "cell_type": "markdown",
   "metadata": {},
   "source": [
    "python3 -m scripts.train --env MiniGrid-TeacherDoorKey-10x10-v0 --save-interval 10 --frames 80000 --procs 8 --nt_iters 50 --model nt_10env_11_21 --teacher_algo a2c --student_algo ppo\n",
    "\n",
    "python3 -m scripts.train --env MiniGrid-TeacherDoorKey-10x10-v0 --save-interval 10 --frames 80000 --procs 8 --nt_iters 50 --t_iters 10 --s_iters_per_teaching 5 --model t_10env_11_21 --teacher_algo a2c --student_algo ppo\n",
    "\n",
    "python3 -m scripts.train --env MiniGrid-TeacherDoorKey-10x10-v0 --save-interval 10 --frames 80000 --procs 8 --nt_iters 50 --t_iters 10 --s_iters_per_teaching 5 --model t_ha_10env_11_21 --teacher_algo a2c --student_algo ppo --historical_averaging 0.2"
   ]
  },
  {
   "cell_type": "markdown",
   "metadata": {},
   "source": [
    "Notes:\n",
    "\n",
    "Number of student iterations per teaching isn't doing the number I expected (I think?)\n",
    "Number of frames_teacher - what does this mean for us? Do we want to do it based of updates? Let's talk about this again."
   ]
  },
  {
   "cell_type": "markdown",
   "metadata": {},
   "source": [
    "Newer tests:\n",
    "\n",
    "python3 -m scripts.train --env MiniGrid-TeacherDoorKey-5x5-v0 --save-interval 10 --frames 80000 --procs 8 --nt_iters 50 --model nt_11_27_1_3_o_2 --teacher_algo a2c --student_algo ppo --seed 2\n",
    "\n",
    "python3 -m scripts.train --env MiniGrid-TeacherDoorKey-5x5-v0 --save-interval 10 --frames 80000 --procs 8 --nt_iters 50 --t_iters 10 --s_iters_per_teaching 5 --model t_11_27_1_3_o_2 --teacher_algo a2c --student_algo ppo --seed 2\n",
    "\n",
    "python3 -m scripts.train --env MiniGrid-TeacherDoorKey-5x5-v0 --save-interval 10 --frames 80000 --procs 8 --nt_iters 50 --t_iters 10 --s_iters_per_teaching 5 --model t_ha_11_27_1_3_o_2 --teacher_algo a2c --student_algo ppo --historical_averaging 0.2 --seed 2"
   ]
  }
 ],
 "metadata": {
  "kernelspec": {
   "display_name": "Python 3",
   "language": "python",
   "name": "python3"
  },
  "language_info": {
   "codemirror_mode": {
    "name": "ipython",
    "version": 3
   },
   "file_extension": ".py",
   "mimetype": "text/x-python",
   "name": "python",
   "nbconvert_exporter": "python",
   "pygments_lexer": "ipython3",
   "version": "3.7.4"
  }
 },
 "nbformat": 4,
 "nbformat_minor": 4
}
